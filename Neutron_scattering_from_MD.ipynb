{
 "cells": [
  {
   "cell_type": "code",
   "execution_count": 4,
   "id": "380c074f-0cf4-445f-ae1c-3d1d81c98138",
   "metadata": {},
   "outputs": [],
   "source": [
    "import periodictable\n",
    "from Bio.PDB import PDBParser\n",
    "from refnx.reflect import SLD, Slab, Structure, ReflectModel\n",
    "import MDAnalysis as mda\n",
    "%matplotlib inline\n",
    "import matplotlib.pyplot as plt\n",
    "import numpy as np\n",
    "import os.path\n",
    "\n",
    "import refnx, scipy\n",
    "# the ReflectDataset object will contain the data\n",
    "from refnx.dataset import ReflectDataset\n",
    "# the reflect module contains functionality relevant to reflectometry\n",
    "from refnx.reflect import ReflectModel, SLD, Stack\n",
    "# the analysis module contains the curvefitting engine\n",
    "from refnx.analysis import Objective, Transform, CurveFitter\n",
    "\n",
    "from md_simulation import MDSimulation"
   ]
  },
  {
   "cell_type": "markdown",
   "id": "8f42bda2-911f-4fc5-8c59-aa8db163d3ce",
   "metadata": {},
   "source": [
    "See this for help: https://nbviewer.org/github/refnx/refnx-models/blob/master/md_simulation/md_simulation.ipynb \n",
    "\n",
    "\n",
    "For some background knowledge: http://gisaxs.com/index.php/Scattering_Length_Density#:~:text=The%20Scattering%20Length%20Density%20(SLD,of%20the%20'scattering%20entities'\n",
    "\n",
    "And here_: https://periodictable.readthedocs.io/en/latest/guide/intro.html"
   ]
  },
  {
   "cell_type": "code",
   "execution_count": 5,
   "id": "f2913023-c8ad-49a7-aed0-d2085cecaf33",
   "metadata": {
    "jupyter": {
     "source_hidden": true
    },
    "tags": []
   },
   "outputs": [],
   "source": [
    "def strip_end(string):\n",
    "    \"\"\"\n",
    "    Strips 'R', 'S', or 'T' from the end of a string if the string has more than 4 characters.\n",
    "    \n",
    "    Args:\n",
    "        string (str): The input string.\n",
    "        \n",
    "    Returns:\n",
    "        str: The stripped string.\n",
    "    \"\"\"\n",
    "    if len(string) > 4:\n",
    "        while string.endswith(('R', 'S', 'T')):\n",
    "            string = string[:-1]\n",
    "    \n",
    "    return string\n",
    "\n"
   ]
  },
  {
   "cell_type": "markdown",
   "id": "99d442e4-305c-4679-bb98-9fea04771bf9",
   "metadata": {},
   "source": [
    "#### Extracts the SLD values for each atom type in the universe"
   ]
  },
  {
   "cell_type": "code",
   "execution_count": 39,
   "id": "1550b73a-8e53-4c7a-b2b1-9ae6e081c8f5",
   "metadata": {
    "tags": []
   },
   "outputs": [
    {
     "name": "stderr",
     "output_type": "stream",
     "text": [
      "/home/kmzh811/.conda/envs/analysis_env/lib/python3.9/site-packages/MDAnalysis/coordinates/PDB.py:1151: UserWarning: Found no information for attr: 'altLocs' Using default value of ' '\n",
      "  warnings.warn(\"Found no information for attr: '{}'\"\n",
      "/home/kmzh811/.conda/envs/analysis_env/lib/python3.9/site-packages/MDAnalysis/coordinates/PDB.py:1151: UserWarning: Found no information for attr: 'icodes' Using default value of ' '\n",
      "  warnings.warn(\"Found no information for attr: '{}'\"\n",
      "/home/kmzh811/.conda/envs/analysis_env/lib/python3.9/site-packages/MDAnalysis/coordinates/PDB.py:1151: UserWarning: Found no information for attr: 'chainIDs' Using default value of ''\n",
      "  warnings.warn(\"Found no information for attr: '{}'\"\n",
      "/home/kmzh811/.conda/envs/analysis_env/lib/python3.9/site-packages/MDAnalysis/coordinates/PDB.py:1151: UserWarning: Found no information for attr: 'occupancies' Using default value of '1.0'\n",
      "  warnings.warn(\"Found no information for attr: '{}'\"\n",
      "/home/kmzh811/.conda/envs/analysis_env/lib/python3.9/site-packages/MDAnalysis/coordinates/PDB.py:1151: UserWarning: Found no information for attr: 'tempfactors' Using default value of '0.0'\n",
      "  warnings.warn(\"Found no information for attr: '{}'\"\n",
      "/home/kmzh811/.conda/envs/analysis_env/lib/python3.9/site-packages/MDAnalysis/coordinates/PDB.py:1151: UserWarning: Found no information for attr: 'elements' Using default value of ' '\n",
      "  warnings.warn(\"Found no information for attr: '{}'\"\n",
      "/home/kmzh811/.conda/envs/analysis_env/lib/python3.9/site-packages/MDAnalysis/coordinates/PDB.py:1151: UserWarning: Found no information for attr: 'record_types' Using default value of 'ATOM'\n",
      "  warnings.warn(\"Found no information for attr: '{}'\"\n",
      "/home/kmzh811/.conda/envs/analysis_env/lib/python3.9/site-packages/MDAnalysis/coordinates/PDB.py:1151: UserWarning: Found no information for attr: 'formalcharges' Using default value of '0'\n",
      "  warnings.warn(\"Found no information for attr: '{}'\"\n",
      "/home/kmzh811/.conda/envs/analysis_env/lib/python3.9/site-packages/MDAnalysis/coordinates/PDB.py:1198: UserWarning: Found missing chainIDs. Corresponding atoms will use value of 'X'\n",
      "  warnings.warn(\"Found missing chainIDs.\"\n",
      "/home/kmzh811/.conda/envs/analysis_env/lib/python3.9/site-packages/MDAnalysis/topology/PDBParser.py:331: UserWarning: Element information is missing, elements attribute will not be populated. If needed these can be guessed using MDAnalysis.topology.guessers.\n",
      "  warnings.warn(\"Element information is missing, elements attribute \"\n",
      "/home/kmzh811/.conda/envs/analysis_env/lib/python3.9/site-packages/MDAnalysis/coordinates/XDR.py:241: UserWarning: Reload offsets from trajectory\n",
      " ctime or size or n_atoms did not match\n",
      "  warnings.warn(\"Reload offsets from trajectory\\n \"\n"
     ]
    }
   ],
   "source": [
    "# Load trajectory and topology\n",
    "u = mda.Universe(\"step7_0.gro\", \"step7_0.part0002.xtc\")\n",
    "sub_uni = u.select_atoms('all and not resname SOD CLA')\n",
    "\n",
    "with mda.Writer(\"sub.xtc\", sub_uni.n_atoms) as W:\n",
    "    for ts in u.trajectory:\n",
    "        W.write(sub_uni)\n",
    "sub_uni.atoms.write('sub.pdb')\n",
    "\n",
    "u = mda.Universe('sub.pdb', 'sub.xtc')\n",
    "\n",
    "\n",
    "# with mda.Writer(\"output.pdb\", multiframe=True) as pdb_writer:\n",
    "#     for ts in u.trajectory:\n",
    "#         # Write the coordinates of the current frame to the PDB file\n",
    "#         pdb_writer.write(u.atoms)\n",
    "\n",
    "\n",
    "# # Step 1: Extract atom positions and information from MDAnalysis Universe\n",
    "# atom_positions = u.atoms.positions  # Numpy array of shape (n_atoms, 3)\n",
    "# atom_types = u.atoms.names  # List of atom names\n",
    "\n",
    "# # Calculate SLD values for each atom in the current frame\n",
    "# sld_values_1 = [periodictable.elements.symbol(atom.type).neutron.sld(wavelength=1.798)[:-1] for atom in u.atoms] \n",
    "# #(*real*, -*imaginary*, *incoherent*) I do not consider the incoherent\n",
    "\n",
    "\n",
    "# # Step 2: Define the SLD values for each atom type\n",
    "# sld_values = {}\n",
    "# out = open('simulation.lgt', 'w')\n",
    "# for atom, sld in zip(u.atoms.names, sld_values_1):\n",
    "#     ### If you use a pdb file instead, you need to strip the R, T, and S in the end, cause the names can only be 4 spaces long\n",
    "#     # sld_values[strip_end(atom)] = sld\n",
    "#     # out.write(f\"{strip_end(atom)} {sld[0]} {sld[1]}\\n\") \n",
    "#     sld_values[atom] = sld\n",
    "#     out.write(f\"{atom} {sld[0]} {sld[1]}\\n\")\n",
    "\n",
    "# out.close()\n"
   ]
  },
  {
   "cell_type": "code",
   "execution_count": 40,
   "id": "939aa591-2ee3-4a14-b1d8-fefce53567da",
   "metadata": {},
   "outputs": [
    {
     "data": {
      "text/plain": [
       "array(['DLMC', 'TIP3'], dtype=object)"
      ]
     },
     "execution_count": 40,
     "metadata": {},
     "output_type": "execute_result"
    }
   ],
   "source": [
    "np.unique(u.atoms.resnames)"
   ]
  },
  {
   "cell_type": "code",
   "execution_count": 45,
   "id": "c347295b-36e3-4a2d-be2e-87b51c2f6bc7",
   "metadata": {},
   "outputs": [],
   "source": [
    "sim = MDSimulation(u,flip=False, cut_off=0, layer_thickness=1, roughness=3)"
   ]
  },
  {
   "cell_type": "code",
   "execution_count": 46,
   "id": "a5a4d41d-f8b7-4528-9f28-ae237ad0d085",
   "metadata": {},
   "outputs": [],
   "source": [
    "# this is just one of three ways to determine the scattering lengths\n",
    "sim.assign_scattering_lengths('neutron')"
   ]
  },
  {
   "cell_type": "code",
   "execution_count": 47,
   "id": "6967a08e-648d-4448-ab78-16f6e29060df",
   "metadata": {},
   "outputs": [],
   "source": [
    "sim.run()"
   ]
  },
  {
   "cell_type": "code",
   "execution_count": 48,
   "id": "4ec0cd97-8aeb-452c-a55c-302a788f49af",
   "metadata": {},
   "outputs": [
    {
     "data": {
      "image/png": "[encoded data removed]",
      "text/plain": [
       "<Figure size 640x480 with 1 Axes>"
      ]
     },
     "metadata": {},
     "output_type": "display_data"
    }
   ],
   "source": [
    "plt.plot(sim.sld_profile()[0], sim.sld_profile()[1])\n",
    "plt.xlabel('$z$/Å')\n",
    "plt.ylabel(r'$\\rho(z)$/Å$^{-2}$')\n",
    "plt.savefig('SLD_profile_AA.png', dpi=300, bbox_inches='tight')\n",
    "plt.show()"
   ]
  },
  {
   "cell_type": "code",
   "execution_count": null,
   "id": "e20774ac-ac7a-45f2-9a1d-1ea303edd17b",
   "metadata": {},
   "outputs": [],
   "source": []
  },
  {
   "cell_type": "code",
   "execution_count": null,
   "id": "2356be50-bdfe-49ff-915b-ce70c68fb861",
   "metadata": {},
   "outputs": [],
   "source": []
  },
  {
   "cell_type": "code",
   "execution_count": null,
   "id": "7ac68e67-a424-47c4-ad08-4b1453f195bf",
   "metadata": {},
   "outputs": [],
   "source": []
  },
  {
   "cell_type": "code",
   "execution_count": null,
   "id": "8273ddc4-d60f-475e-959f-055f5d44c3e8",
   "metadata": {},
   "outputs": [],
   "source": []
  },
  {
   "cell_type": "code",
   "execution_count": null,
   "id": "235136e4-1f46-4e4d-ac93-f68128d6076d",
   "metadata": {},
   "outputs": [],
   "source": []
  },
  {
   "cell_type": "code",
   "execution_count": null,
   "id": "efaf940a-977d-4228-8429-f173fe4f273c",
   "metadata": {},
   "outputs": [],
   "source": []
  },
  {
   "cell_type": "code",
   "execution_count": null,
   "id": "4d9d5f08-5b0c-421a-a3a7-b1c9eead4624",
   "metadata": {
    "tags": []
   },
   "outputs": [],
   "source": []
  },
  {
   "cell_type": "code",
   "execution_count": null,
   "id": "2e8c77c6-1100-4f71-993c-e309e9a157a9",
   "metadata": {},
   "outputs": [],
   "source": []
  },
  {
   "cell_type": "code",
   "execution_count": null,
   "id": "81db15d9-6331-419f-88b3-b90b9dc92236",
   "metadata": {},
   "outputs": [],
   "source": []
  },
  {
   "cell_type": "code",
   "execution_count": null,
   "id": "4af57115-5165-4f79-b5cb-c4b6b9970b42",
   "metadata": {},
   "outputs": [],
   "source": []
  },
  {
   "cell_type": "code",
   "execution_count": null,
   "id": "dc0f3d28-e01a-4b2d-aef2-c086fb9d1e0c",
   "metadata": {},
   "outputs": [],
   "source": []
  },
  {
   "cell_type": "code",
   "execution_count": null,
   "id": "7091c3f0-e5cb-4017-9373-391594c65940",
   "metadata": {},
   "outputs": [],
   "source": []
  },
  {
   "cell_type": "code",
   "execution_count": null,
   "id": "19ceff1c-10ed-448c-aa3e-aaa85bbd3543",
   "metadata": {},
   "outputs": [],
   "source": []
  },
  {
   "cell_type": "code",
   "execution_count": null,
   "id": "f1fde342-3f8e-48e9-9491-b6a41cd921b9",
   "metadata": {},
   "outputs": [],
   "source": []
  },
  {
   "cell_type": "code",
   "execution_count": null,
   "id": "2290c4e0-eeb7-499b-b7ec-4fecc40cec18",
   "metadata": {},
   "outputs": [],
   "source": []
  },
  {
   "cell_type": "code",
   "execution_count": null,
   "id": "414a03b0-0d9f-4ae6-b4ef-88286e36f4dd",
   "metadata": {},
   "outputs": [],
   "source": []
  },
  {
   "cell_type": "code",
   "execution_count": null,
   "id": "9d655232-8497-4b49-a8a4-74a284e56301",
   "metadata": {},
   "outputs": [],
   "source": []
  },
  {
   "cell_type": "code",
   "execution_count": null,
   "id": "c3a268bd-1493-45fc-bf8c-68e983b37f6a",
   "metadata": {},
   "outputs": [],
   "source": []
  },
  {
   "cell_type": "code",
   "execution_count": null,
   "id": "51d7b8b1-1da8-4a65-a62b-3c66d99e8f6c",
   "metadata": {},
   "outputs": [],
   "source": []
  },
  {
   "cell_type": "code",
   "execution_count": null,
   "id": "fbca10d4-79ca-4363-94c2-4a60220eb0b9",
   "metadata": {},
   "outputs": [],
   "source": []
  },
  {
   "cell_type": "code",
   "execution_count": null,
   "id": "a0ee70e9-db4f-48f1-b393-65dc5c538d56",
   "metadata": {},
   "outputs": [],
   "source": []
  },
  {
   "cell_type": "code",
   "execution_count": null,
   "id": "868e3ffa-6dc6-4e24-a918-a3e74a00f5b5",
   "metadata": {},
   "outputs": [],
   "source": []
  }
 ],
 "metadata": {
  "kernelspec": {
   "display_name": "analysis_env",
   "language": "python",
   "name": "analysis_env"
  },
  "language_info": {
   "codemirror_mode": {
    "name": "ipython",
    "version": 3
   },
   "file_extension": ".py",
   "mimetype": "text/x-python",
   "name": "python",
   "nbconvert_exporter": "python",
   "pygments_lexer": "ipython3",
   "version": "3.9.15"
  }
 },
 "nbformat": 4,
 "nbformat_minor": 5
}
